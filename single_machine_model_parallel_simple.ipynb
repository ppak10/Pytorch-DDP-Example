{
 "cells": [
  {
   "cell_type": "markdown",
   "metadata": {},
   "source": [
    "# [Single-Machine Model Parallel Best Practices](https://pytorch.org/tutorials/intermediate/model_parallel_tutorial.html)"
   ]
  },
  {
   "cell_type": "code",
   "execution_count": 1,
   "metadata": {},
   "outputs": [],
   "source": [
    "import torch\n",
    "import torch.nn as nn\n",
    "import torch.optim as optim\n",
    "\n",
    "from torchsummary import summary "
   ]
  },
  {
   "cell_type": "code",
   "execution_count": 2,
   "metadata": {},
   "outputs": [],
   "source": [
    "# Models require space for 2 x features for forward and backward passes.\n",
    "\n",
    "# features = int(1.515E4) # K620\n",
    "\n",
    "# RTX 2080 Ti\n",
    "features = int(3.75E4)\n",
    "gpu_memory = 11264"
   ]
  },
  {
   "cell_type": "code",
   "execution_count": 3,
   "metadata": {},
   "outputs": [],
   "source": [
    "class ToyModel(nn.Module):\n",
    "    def __init__(self):\n",
    "        super(ToyModel, self).__init__()\n",
    "        self.net1 = torch.nn.Linear(features, features).to('cuda:0')\n",
    "        self.net2 = torch.nn.Linear(features, features).to('cuda:1')\n",
    "        self.net3 = torch.nn.Linear(features, features).to('cuda:2')\n",
    "        self.net4 = torch.nn.Linear(features, features).to('cuda:3')\n",
    "        self.relu = torch.nn.ReLU()\n",
    "\n",
    "    def forward(self, x):\n",
    "        x = self.relu(self.net1(x.to('cuda:0')))\n",
    "        x = self.relu(self.net2(x.to('cuda:1')))\n",
    "        x = self.relu(self.net3(x.to('cuda:2')))\n",
    "        return self.net4(x.to('cuda:3'))"
   ]
  },
  {
   "cell_type": "code",
   "execution_count": 4,
   "metadata": {},
   "outputs": [],
   "source": [
    "model = ToyModel()\n",
    "input = torch.randn(20, features)"
   ]
  },
  {
   "cell_type": "code",
   "execution_count": 5,
   "metadata": {},
   "outputs": [
    {
     "name": "stdout",
     "output_type": "stream",
     "text": [
      "model size: 21458.244MB\n",
      "total gpu space utilization: 0.4762571982362054\n",
      "----------------------------------------------------------------\n",
      "        Layer (type)               Output Shape         Param #\n",
      "================================================================\n",
      "            Linear-1            [-1, 20, 37500]   1,406,287,500\n",
      "              ReLU-2            [-1, 20, 37500]               0\n",
      "            Linear-3            [-1, 20, 37500]   1,406,287,500\n",
      "              ReLU-4            [-1, 20, 37500]               0\n",
      "            Linear-5            [-1, 20, 37500]   1,406,287,500\n",
      "              ReLU-6            [-1, 20, 37500]               0\n",
      "            Linear-7            [-1, 20, 37500]   1,406,287,500\n",
      "================================================================\n",
      "Total params: 5,625,150,000\n",
      "Trainable params: 5,625,150,000\n",
      "Non-trainable params: 0\n",
      "----------------------------------------------------------------\n",
      "Input size (MB): 2.86\n",
      "Forward/backward pass size (MB): 40.05\n",
      "Params size (MB): 21458.24\n",
      "Estimated Total Size (MB): 21501.16\n",
      "----------------------------------------------------------------\n"
     ]
    }
   ],
   "source": [
    "param_size = 0\n",
    "for param in model.parameters():\n",
    "    param_size += param.nelement() * param.element_size()\n",
    "buffer_size = 0\n",
    "for buffer in model.buffers():\n",
    "    buffer_size += buffer.nelement() * buffer.element_size()\n",
    "\n",
    "size_all_mb = (param_size + buffer_size) / 1024**2\n",
    "print('model size: {:.3f}MB'.format(size_all_mb))\n",
    "print(f\"total gpu space utilization: {size_all_mb/(gpu_memory*4)}\")\n",
    "summary(model, input_size=input.shape)"
   ]
  },
  {
   "cell_type": "code",
   "execution_count": 6,
   "metadata": {},
   "outputs": [],
   "source": [
    "loss_fn = nn.MSELoss()\n",
    "optimizer = optim.SGD(model.parameters(), lr=0.001)\n",
    "optimizer.zero_grad()\n",
    "outputs = model(input)\n",
    "labels = torch.randn(20, features).to('cuda:3')\n",
    "loss_fn(outputs, labels).backward()\n",
    "optimizer.step()"
   ]
  },
  {
   "cell_type": "code",
   "execution_count": null,
   "metadata": {},
   "outputs": [],
   "source": []
  }
 ],
 "metadata": {
  "kernelspec": {
   "display_name": "venv",
   "language": "python",
   "name": "python3"
  },
  "language_info": {
   "codemirror_mode": {
    "name": "ipython",
    "version": 3
   },
   "file_extension": ".py",
   "mimetype": "text/x-python",
   "name": "python",
   "nbconvert_exporter": "python",
   "pygments_lexer": "ipython3",
   "version": "3.10.12"
  }
 },
 "nbformat": 4,
 "nbformat_minor": 2
}
